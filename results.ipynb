{
 "cells": [
  {
   "cell_type": "markdown",
   "metadata": {},
   "source": [
    "### Backtesting Greenblatt’s Magic Formula for Brazilian listed companies\n",
    "---\n",
    "The Magic Formula can be described as simplified version of the value investing strategy used for decades by Warren Buffett and Charlie Munger. It uses a combination of growth and value proxies that tries to identify the best possible long-term buy for a given set of assets. As Greenblatt stated in his book [The Little Book That Beats the Market](https://www.magicformulainvesting.com/Home/AboutTheBook):\n",
    "\n",
    "> What would happen if we decided to only buy shares in good businesses (ones with high returns on capital) but only when they were available at bargain prices (priced to give us a high earnings yield)?\n",
    "\n",
    "In possession of the mathematically translated methodology, its application can be carried out in an automated way, allowing its retrospective application through computational algorithms that make use of data published by companies, by the stock exchange (B3) and by the brazilian capital market regulator (Comissão de Valores Mobiliários - CVM).\n",
    "\n",
    "**The canonical formula presented by Greenblatt in his book is composed of two parts:**\n",
    "1. Return on Capital (ROIC) = $\\frac{EBIT}{\\text{Net Working Capital } + \\text{ Net Fixed Assets}}$\n",
    "\n",
    "2. Earnings Yield (EY) = $\\frac{EBIT}{\\text{Enterprise Value}}$ \n",
    "\n",
    "<div class=\"alert alert-block alert-info\">\n",
    "<b>Note:</b> we adopted Prof. Aswath Damodaran definition of ROIC(1) in this project.\n",
    "</div>\n",
    "\n",
    "<sub>(1) [Return on Capital (ROC), Return on Invested Capital (ROIC) and Return on Equity (ROE): Measurement and Implications, 2007](https://pages.stern.nyu.edu/~adamodar/pdfiles/papers/returnmeasures.pdf)</sub>\n",
    "\n",
    "---"
   ]
  },
  {
   "cell_type": "markdown",
   "metadata": {},
   "source": [
    "### The Project:\n",
    "\n",
    "In order to simulate the application of the Magic Formula to the Brazilian market since 2011, the minimum period in which it is possible to obtain formatted accounting data from companies listed on the Brazilian stock exchange (B3), we divided the analysis into the following steps:\n",
    "1. Define the companies that will be included in simulation;\n",
    "1. Extract accounting indicators for the included companies dataset. Remove companies with negative EBIT and ROIC;\n",
    "1. Define the best day of the year to rebalance the portfolio considering the publications of the audited annual financial statements;\n",
    "1. Build a table of assets incorporating pricing and accounting data in order to rank companies based on ROIC and EY indicators and construct a yearly portfolio with 30 stocks;\n",
    "1. Take a look at which sectors were chosen by the finance algorithm.\n",
    "1. Extract the adjusted prices for the companies defined in the previuous step;\n",
    "1. Calculate the portfolio total return over the backtest period e compare it with IBOV market index.\n",
    "1. Final considerations\n",
    "\n",
    "For each of these steps, a dedicated Jupyter Notebook was created in which you can check in detail how the data extraction operation was performed. In this notebook, we will only summarize these steps and present the results obtained in the project."
   ]
  },
  {
   "cell_type": "markdown",
   "metadata": {},
   "source": [
    "### [Notebook 1: Included Companies](https://github.com/AlgebraQuant/MagicFormula/blob/main/src/1_included_companies.ipynb)\n",
    "\n",
    "As we are going to carry out a simulation of how the strategy would have resulted if it had been adopted in the Brazilian market, we need to be aware of how the retrospective application of these rules will be made and if this application takes into account the characteristics of the local market.\n",
    "\n",
    "Pages 135 and 136 of the book provide general instructions for stock selection in cases where the screening is done outside the system that the author already offers at https://www.magicformulainvesting.com/ for US stocks. Two of these Greenblatt's general rules seems to be very important:\n",
    "\n",
    "> - Eliminate all utilities and financial stocks (i.e., mutual funds, banks and insurance companies) from the list.\n",
    "> - Eliminate all foreign companies from the list. In most cases, these will have the suffix “ADR” (for “American Depository Receipt”) after the name of the stock.\n",
    "\n",
    "The most consistent way we found to remove companies that should not be included in the simulation was to use the [CVM database of publicly traded companies](http://dados.cvm.gov.br/dados/CIA_ABERTA/CAD/DADOS/). The above database has 2448 companies. By removing the companies from items 1 and 2, as well as state-owned companies(2), we arrived at a total of 1443 companies. \n",
    "\n",
    "The jupyter notebook script procudes two datasets, one with included companies and with excluded companies. Both are are saved in the data folder of this repository.\n",
    "\n",
    "(2) Despite not being explicit in the book, this type of company does not go public in the US.\n"
   ]
  },
  {
   "cell_type": "markdown",
   "metadata": {},
   "source": [
    "### [Notebook 2: Financials](https://github.com/AlgebraQuant/MagicFormula/blob/main/src/2_magic_financials.ipynb)\n",
    "\n",
    "The financial dataset has a total of 10 million accounting lines of publicly traded companies that, due to the Brazilian legal framework, are required to publish their financial statements.\n",
    "\n",
    "This dataset has balance sheets since 2011 and includes 1108 companies. We will adopt the annual audited statements as a reference in compiling the annual indicators for these companies.\n",
    "\n",
    "After calculating the indicators, we filtered out cases of companies with negative ROIC, EBIT and Net Debt values.\n",
    "The results are compiled in the file \"../data/magic_financials.csv\" and a total of 375 companies are able to follow in the next steps of calculations.\n",
    "\n",
    "<div class=\"alert alert-block alert-info\">\n",
    "<b>Note:</b> we used consolidated accounting data instead of individual in this project since it tends to give a better economic picture of the company.\n",
    "</div>\n"
   ]
  },
  {
   "cell_type": "markdown",
   "metadata": {},
   "source": [
    "### [Notebook 3: Balancing Day](https://github.com/AlgebraQuant/MagicFormula/blob/main/src/3_balancing_day.ipynb)\n",
    "\n",
    "The book guides the investor to progressively balance the portfolio at the beginning. Let's see:\n",
    "\n",
    "<blockquote> Step 4: Buy five to seven top-ranked companies. To start, invest only 20 to 33 percent of the money you intend to invest during the first year.</blockquote>\n",
    "<blockquote> Step 5: Repeat Step 4 every two to three months until you have invested all of the money you have chosen to allocate to your magic formula portfolio. After 9 or 10 months, this should result in a portfolio of 20 to 30 stocks (e.g., seven stocks every three months, five or six stocks every two months).</blockquote>\n",
    "\n",
    "Despite this, when checking the date of publication of the companies' annual financial statements in the dataset, the 100th day of the year is generally a date after the publications in most cases, but not too after. Thus, we chose this date to automatically carry out the balance of the portfolio in the first year and its rebalancing in the following years of the backtest."
   ]
  },
  {
   "cell_type": "markdown",
   "metadata": {},
   "source": [
    "### [Notebook 4: Ranking the Companies](https://github.com/AlgebraQuant/MagicFormula/blob/main/src/4_ranking_stocks.ipynb)\n",
    "\n",
    "In this jupyter notebook, we continue the process of calculating the indicators proposed by Greenblatt in order to be able to perform the ranking of the best companies found in the Magic Formula methodology.\n",
    "\n",
    "The first step is to load the unadjusted daily price dataset of companies listed on B3. By doing this, we verify that there are 511 companies initially able to be used in the backtest.\n",
    "\n",
    "However, when we implement the filters of the previous steps, as well as filters of minimum liquidity for the assets, we arrive at a set of only 192 able to be ranked by the Formula.\n",
    "\n",
    "After the ranking of the 30 best companies of the year, 113 companies are selected for the next stage of simulation of the performance of the portfolio from 2011 to 2022 (11 rebalances), composed by the selection.\n",
    "\n",
    "If the rebalance was always done with a new company, we would have a total of 330 in the 11 rebalances. As we have approximately 1/3 of this, most companies repeat themselves in the portfolio. \n",
    "\n",
    "Below is a list of the top five \"champion\" companies for the Formula, as they are repeatedly selected by the systematics applied to the Brazilian market:\n",
    "\n",
    "| Company        | Num. of selected times |\n",
    "|:---------      |:-----------------------|\n",
    "| Tegma          | 10                     |\n",
    "| Klabin         |  9                     |\n",
    "| Grupo CCR      |  9                     |\n",
    "| Lojas Renner   |  9                     |\n",
    "| Ser Educacional|  9                     |\n"
   ]
  },
  {
   "cell_type": "markdown",
   "metadata": {},
   "source": [
    "### [Notebook 5: Picked Sectors](https://github.com/AlgebraQuant/MagicFormula/blob/main/src/5_picked_sectors.ipynb)\n",
    "\n",
    "In this notebook we make a quick check in which were the most chosen sectors by the Magic systematic in the period. As we can see below the top 10 sectors make up 77,2% of the portfolio, while the first 3 has a weight of 37.7%:\n",
    "\n",
    "| Sector        | Percentage Weight(%) |\n",
    "|:---------      |:-----------------------|\n",
    "| Commerce (Wholesale and Retail) | 13.3 |\n",
    "| Civil Construction, Matt. Build and Decoration | 12.8 |\n",
    "| Transport and Logistics Services | 11.7 |\n",
    "| Machines, Equipment, Vehicles and Parts | 9.2 |\n",
    "| Textile and Clothing | 6.7 |\n",
    "| Agriculture (Sugar, Alcohol and Cane) | 5.3 |\n",
    "| Mineral Extraction | 5 |\n",
    "| Medical Services | 4.7 |\n",
    "| Pulp and Paper | 4.7 |\n",
    "| Food | 3.9 |\n"
   ]
  },
  {
   "cell_type": "markdown",
   "metadata": {},
   "source": [
    "### [Notebook 6: Adjusted Prices](https://github.com/AlgebraQuant/MagicFormula/blob/main/src/6_adjusted_prices.ipynb)\n",
    "\n",
    "The purpose of this Notebook is to filter the historical series of prices, adjusted for dividends, of the 30 best ranked assets selected in the previous step.\n",
    "\n",
    "As the prices are adjusted for dividends, the equivalent effect is to increase the equity interest in the asset in proportion to the amount of the dividend paid.\n",
    "\n",
    "The Notebook generates a text file \"adjusted_prices.csv\" that will be used in the next step of calculating the strategy's total return in the period."
   ]
  },
  {
   "cell_type": "markdown",
   "metadata": {},
   "source": [
    "### [Notebook 7: Portfolio Total Return](https://github.com/AlgebraQuant/MagicFormula/blob/main/src/7_total_return.ipynb)\n",
    "\n",
    "We have finally reached the stage where we can calculate the total return on the portfolio since 2011. The rebalancing was performed annually on the first trading session starting on the 100th day of the year.\n",
    "\n",
    "In this simulation, we do not include transaction costs, the rebalance day's bid-ask spread, nor tax costs. Thus, the expected return on the real portfolio would necessarily have been slightly lower than the simulated return.\n",
    "\n",
    "The calculated return incorporated dividends into the asset price, which has an impact equivalent to reinvesting in the same stock when the dividend is paid. Such a metric better accommodates what would have been the investor's return in the period. It should also be noted that the Ibovespa Index is already a total return index, as it incorporates company dividends into the indicator itself.\n",
    "\n",
    "Below is the comparative chart of the result obtained with the Magic Formula strategy applied to the Brazilian market:\n",
    "\n",
    "![Backtest](./reports/images/magic_ibov.jpg)"
   ]
  },
  {
   "cell_type": "code",
   "execution_count": null,
   "metadata": {},
   "outputs": [],
   "source": []
  }
 ],
 "metadata": {
  "kernelspec": {
   "display_name": "Python 3 (ipykernel)",
   "language": "python",
   "name": "python3"
  },
  "language_info": {
   "codemirror_mode": {
    "name": "ipython",
    "version": 3
   },
   "file_extension": ".py",
   "mimetype": "text/x-python",
   "name": "python",
   "nbconvert_exporter": "python",
   "pygments_lexer": "ipython3",
   "version": "3.10.5"
  },
  "vscode": {
   "interpreter": {
    "hash": "a3d489083e1a5e69a6ef7daab9970156c3f5baa7f86d2e24ee4aef4a6305edcf"
   }
  }
 },
 "nbformat": 4,
 "nbformat_minor": 4
}
